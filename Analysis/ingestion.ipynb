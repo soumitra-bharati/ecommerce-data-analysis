{
 "cells": [
  {
   "cell_type": "code",
   "execution_count": 5,
   "id": "c0b25038-9491-44df-bc0b-c3c046039ea2",
   "metadata": {},
   "outputs": [],
   "source": [
    "import pandas as pd\n",
    "import os\n",
    "import time\n",
    "import logging\n",
    "from sqlalchemy import create_engine\n",
    "\n",
    "logging.basicConfig(\n",
    "    filename='logs/ingestion_db.log',\n",
    "    filemode='a',\n",
    "    level=logging.DEBUG,\n",
    "    format='%(asctime)s %(levelname)-8s %(message)s'\n",
    ")\n",
    "# Database connection parameters\n",
    "username = 'root'\n",
    "password = '3337'\n",
    "host     = 'localhost'\n",
    "port     = 3306\n",
    "database = 'ecom'\n",
    "\n",
    "# Build SQLAlchemy engine\n",
    "connection_string = f\"mysql+pymysql://{username}:{password}@{host}:{port}/{database}\"\n",
    "conn = create_engine(connection_string)\n",
    "\n",
    "def ingest_db(df, table_name, engine):\n",
    "    \"\"\"\n",
    "    Ingests the given DataFrame into the specified table.\n",
    "    If the table already exists, it will be replaced.\n",
    "    \"\"\"\n",
    "    df.to_sql(table_name, con=conn, if_exists=\"replace\", index=False)\n",
    "\n",
    "def load_raw_data():\n",
    "    \"\"\"\n",
    "    this function will load the CSVs as dataframe and ingest into db\n",
    "    \"\"\"\n",
    "    start = time.time()\n",
    "    for file in os.listdir('data'):\n",
    "        if '.csv' in file:\n",
    "            df = pd.read_csv('data/' + file)\n",
    "            \n",
    "            # Clean up column names\n",
    "            df.columns = df.columns.str.strip().str.replace(' ', '_')\n",
    "            \n",
    "            logging.info(f'Ingesting {file} in db')\n",
    "            ingest_db(df, file[:-4], conn)\n",
    "    end = time.time()\n",
    "    total_minutes = (end - start) / 60\n",
    "    logging.info(\"All CSVs ingested successfully.\")\n",
    "    logging.info(f\"Total time taken: {total_minutes} minutes\")\n",
    "\n",
    "if __name__ == '__main__':\n",
    "    load_raw_data()"
   ]
  },
  {
   "cell_type": "code",
   "execution_count": null,
   "id": "6f3a5b1d-ded2-4dd4-8b2e-dda19a58d0a2",
   "metadata": {},
   "outputs": [],
   "source": []
  }
 ],
 "metadata": {
  "kernelspec": {
   "display_name": "Python 3 (ipykernel)",
   "language": "python",
   "name": "python3"
  },
  "language_info": {
   "codemirror_mode": {
    "name": "ipython",
    "version": 3
   },
   "file_extension": ".py",
   "mimetype": "text/x-python",
   "name": "python",
   "nbconvert_exporter": "python",
   "pygments_lexer": "ipython3",
   "version": "3.12.7"
  }
 },
 "nbformat": 4,
 "nbformat_minor": 5
}
